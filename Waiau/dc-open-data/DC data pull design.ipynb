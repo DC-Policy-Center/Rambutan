{
 "cells": [
  {
   "cell_type": "markdown",
   "metadata": {},
   "source": [
    "# Design\n",
    "\n",
    "## Requirements\n",
    "\n",
    "This will load in a file "
   ]
  },
  {
   "cell_type": "code",
   "execution_count": 39,
   "metadata": {
    "collapsed": true
   },
   "outputs": [],
   "source": [
    "import pandas as pd\n",
    "import requests\n",
    "import filecmp"
   ]
  },
  {
   "cell_type": "code",
   "execution_count": 35,
   "metadata": {
    "collapsed": true
   },
   "outputs": [],
   "source": [
    "def request_and_download(url,file_name):\n",
    "    response = requests.get(url)\n",
    "    if response.status_code != 200:\n",
    "        return('Invalid response code')\n",
    "    else:\n",
    "        content = response.content\n",
    "    \n",
    "    with open(file_name,'wb') as f:\n",
    "        f.write(content)\n",
    "    f.close()\n",
    "    return('Valid response, written')\n"
   ]
  },
  {
   "cell_type": "code",
   "execution_count": 26,
   "metadata": {
    "collapsed": true
   },
   "outputs": [],
   "source": [
    "data_to_pull = pd.read_csv('open-data-pull-list.csv')"
   ]
  },
  {
   "cell_type": "code",
   "execution_count": 27,
   "metadata": {
    "collapsed": false
   },
   "outputs": [
    {
     "data": {
      "text/html": [
       "<div>\n",
       "<table border=\"1\" class=\"dataframe\">\n",
       "  <thead>\n",
       "    <tr style=\"text-align: right;\">\n",
       "      <th></th>\n",
       "      <th>name</th>\n",
       "      <th>filename</th>\n",
       "      <th>endpoint</th>\n",
       "      <th>type</th>\n",
       "    </tr>\n",
       "  </thead>\n",
       "  <tbody>\n",
       "    <tr>\n",
       "      <th>0</th>\n",
       "      <td>ITS</td>\n",
       "      <td>its.csv</td>\n",
       "      <td>https://opendata.arcgis.com/datasets/496533836...</td>\n",
       "      <td>CSV</td>\n",
       "    </tr>\n",
       "    <tr>\n",
       "      <th>1</th>\n",
       "      <td>DC Owned Land</td>\n",
       "      <td>owned-land.csv</td>\n",
       "      <td>https://opendata.arcgis.com/datasets/c8cacaa7f...</td>\n",
       "      <td>CSV</td>\n",
       "    </tr>\n",
       "  </tbody>\n",
       "</table>\n",
       "</div>"
      ],
      "text/plain": [
       "            name        filename  \\\n",
       "0            ITS         its.csv   \n",
       "1  DC Owned Land  owned-land.csv   \n",
       "\n",
       "                                            endpoint type  \n",
       "0  https://opendata.arcgis.com/datasets/496533836...  CSV  \n",
       "1  https://opendata.arcgis.com/datasets/c8cacaa7f...  CSV  "
      ]
     },
     "execution_count": 27,
     "metadata": {},
     "output_type": "execute_result"
    }
   ],
   "source": [
    "data_to_pull"
   ]
  },
  {
   "cell_type": "code",
   "execution_count": 15,
   "metadata": {
    "collapsed": false
   },
   "outputs": [
    {
     "data": {
      "text/plain": [
       "'https://opendata.arcgis.com/datasets/496533836db640bcade61dd9078b0d63_53.csv'"
      ]
     },
     "execution_count": 15,
     "metadata": {},
     "output_type": "execute_result"
    }
   ],
   "source": [
    "data_to_pull['endpoint'][0]"
   ]
  },
  {
   "cell_type": "code",
   "execution_count": 36,
   "metadata": {
    "collapsed": false
   },
   "outputs": [
    {
     "name": "stdout",
     "output_type": "stream",
     "text": [
      "ITS : https://opendata.arcgis.com/datasets/496533836db640bcade61dd9078b0d63_53.csv\n",
      "DC Owned Land : https://opendata.arcgis.com/datasets/c8cacaa7f74944d19a9941bc7bdee1a2_61.csv\n"
     ]
    }
   ],
   "source": [
    "i = 0\n",
    "for i in range(len(data_to_pull)):\n",
    "    \n",
    "    name = data_to_pull['name'][i]\n",
    "    file_name = data_to_pull['filename'][i]\n",
    "    url = data_to_pull['endpoint'][i]\n",
    "    \n",
    "    print(\"{} : {}\".format(data_to_pull['name'][i],data_to_pull['endpoint'][i]))\n",
    "    \n",
    "    request_and_download(url,file_name)\n",
    "    \n",
    "    i+=1"
   ]
  },
  {
   "cell_type": "markdown",
   "metadata": {},
   "source": [
    "## This section below is just to check the outputs of the data pulls"
   ]
  },
  {
   "cell_type": "code",
   "execution_count": 37,
   "metadata": {
    "collapsed": false
   },
   "outputs": [
    {
     "name": "stderr",
     "output_type": "stream",
     "text": [
      "C:\\Users\\mwatson\\AppData\\Local\\Continuum\\Anaconda3\\lib\\site-packages\\IPython\\core\\interactiveshell.py:2717: DtypeWarning: Columns (3,4,37,117,147,157,177) have mixed types. Specify dtype option on import or set low_memory=False.\n",
      "  interactivity=interactivity, compiler=compiler, result=result)\n"
     ]
    }
   ],
   "source": [
    "data_check = pd.read_csv('its.csv')"
   ]
  },
  {
   "cell_type": "code",
   "execution_count": 38,
   "metadata": {
    "collapsed": false
   },
   "outputs": [
    {
     "data": {
      "text/html": [
       "<div>\n",
       "<table border=\"1\" class=\"dataframe\">\n",
       "  <thead>\n",
       "    <tr style=\"text-align: right;\">\n",
       "      <th></th>\n",
       "      <th>﻿OBJECTID_1</th>\n",
       "      <th>OBJECTID</th>\n",
       "      <th>SSL</th>\n",
       "      <th>SQUARE</th>\n",
       "      <th>SUFFIX</th>\n",
       "      <th>LOT</th>\n",
       "      <th>ARN</th>\n",
       "      <th>ASRNAME</th>\n",
       "      <th>PROPTYPE</th>\n",
       "      <th>TRIGROUP</th>\n",
       "      <th>...</th>\n",
       "      <th>PY10TAX</th>\n",
       "      <th>PY10PEN</th>\n",
       "      <th>PY10INT</th>\n",
       "      <th>PY10FEE</th>\n",
       "      <th>PY10TOTDUE</th>\n",
       "      <th>PY10COLL</th>\n",
       "      <th>PY10BAL</th>\n",
       "      <th>PY10CR</th>\n",
       "      <th>LASTPAYDT</th>\n",
       "      <th>OWNNAME2</th>\n",
       "    </tr>\n",
       "  </thead>\n",
       "  <tbody>\n",
       "    <tr>\n",
       "      <th>0</th>\n",
       "      <td>1001</td>\n",
       "      <td>1001</td>\n",
       "      <td>PAR 02080064</td>\n",
       "      <td>PAR</td>\n",
       "      <td>0208</td>\n",
       "      <td>64</td>\n",
       "      <td>NaN</td>\n",
       "      <td>NaN</td>\n",
       "      <td>GARAGE/UNIMPROVED LAND</td>\n",
       "      <td>NaN</td>\n",
       "      <td>...</td>\n",
       "      <td>NaN</td>\n",
       "      <td>NaN</td>\n",
       "      <td>NaN</td>\n",
       "      <td>NaN</td>\n",
       "      <td>NaN</td>\n",
       "      <td>NaN</td>\n",
       "      <td>NaN</td>\n",
       "      <td>NaN</td>\n",
       "      <td>NaN</td>\n",
       "      <td>NaN</td>\n",
       "    </tr>\n",
       "    <tr>\n",
       "      <th>1</th>\n",
       "      <td>1003</td>\n",
       "      <td>1003</td>\n",
       "      <td>PAR 02060119</td>\n",
       "      <td>PAR</td>\n",
       "      <td>0206</td>\n",
       "      <td>119</td>\n",
       "      <td>NaN</td>\n",
       "      <td>NaN</td>\n",
       "      <td>GARAGE/UNIMPROVED LAND</td>\n",
       "      <td>NaN</td>\n",
       "      <td>...</td>\n",
       "      <td>NaN</td>\n",
       "      <td>NaN</td>\n",
       "      <td>NaN</td>\n",
       "      <td>NaN</td>\n",
       "      <td>NaN</td>\n",
       "      <td>NaN</td>\n",
       "      <td>NaN</td>\n",
       "      <td>NaN</td>\n",
       "      <td>NaN</td>\n",
       "      <td>NaN</td>\n",
       "    </tr>\n",
       "    <tr>\n",
       "      <th>2</th>\n",
       "      <td>1004</td>\n",
       "      <td>1004</td>\n",
       "      <td>PAR 02070082</td>\n",
       "      <td>PAR</td>\n",
       "      <td>0207</td>\n",
       "      <td>82</td>\n",
       "      <td>NaN</td>\n",
       "      <td>NaN</td>\n",
       "      <td>COMMERCIAL</td>\n",
       "      <td>NaN</td>\n",
       "      <td>...</td>\n",
       "      <td>NaN</td>\n",
       "      <td>NaN</td>\n",
       "      <td>NaN</td>\n",
       "      <td>NaN</td>\n",
       "      <td>NaN</td>\n",
       "      <td>NaN</td>\n",
       "      <td>NaN</td>\n",
       "      <td>NaN</td>\n",
       "      <td>NaN</td>\n",
       "      <td>NaN</td>\n",
       "    </tr>\n",
       "    <tr>\n",
       "      <th>3</th>\n",
       "      <td>1005</td>\n",
       "      <td>1005</td>\n",
       "      <td>PAR 02080065</td>\n",
       "      <td>PAR</td>\n",
       "      <td>0208</td>\n",
       "      <td>65</td>\n",
       "      <td>NaN</td>\n",
       "      <td>NaN</td>\n",
       "      <td>GARAGE/UNIMPROVED LAND</td>\n",
       "      <td>NaN</td>\n",
       "      <td>...</td>\n",
       "      <td>NaN</td>\n",
       "      <td>NaN</td>\n",
       "      <td>NaN</td>\n",
       "      <td>NaN</td>\n",
       "      <td>NaN</td>\n",
       "      <td>NaN</td>\n",
       "      <td>NaN</td>\n",
       "      <td>NaN</td>\n",
       "      <td>NaN</td>\n",
       "      <td>NaN</td>\n",
       "    </tr>\n",
       "    <tr>\n",
       "      <th>4</th>\n",
       "      <td>1007</td>\n",
       "      <td>1007</td>\n",
       "      <td>PAR 02060122</td>\n",
       "      <td>PAR</td>\n",
       "      <td>0206</td>\n",
       "      <td>122</td>\n",
       "      <td>NaN</td>\n",
       "      <td>NaN</td>\n",
       "      <td>GARAGE/UNIMPROVED LAND</td>\n",
       "      <td>NaN</td>\n",
       "      <td>...</td>\n",
       "      <td>NaN</td>\n",
       "      <td>NaN</td>\n",
       "      <td>NaN</td>\n",
       "      <td>NaN</td>\n",
       "      <td>NaN</td>\n",
       "      <td>NaN</td>\n",
       "      <td>NaN</td>\n",
       "      <td>NaN</td>\n",
       "      <td>NaN</td>\n",
       "      <td>NaN</td>\n",
       "    </tr>\n",
       "  </tbody>\n",
       "</table>\n",
       "<p>5 rows × 208 columns</p>\n",
       "</div>"
      ],
      "text/plain": [
       "   ﻿OBJECTID_1  OBJECTID           SSL SQUARE SUFFIX  LOT  ARN  ASRNAME  \\\n",
       "0         1001      1001  PAR 02080064    PAR   0208   64  NaN      NaN   \n",
       "1         1003      1003  PAR 02060119    PAR   0206  119  NaN      NaN   \n",
       "2         1004      1004  PAR 02070082    PAR   0207   82  NaN      NaN   \n",
       "3         1005      1005  PAR 02080065    PAR   0208   65  NaN      NaN   \n",
       "4         1007      1007  PAR 02060122    PAR   0206  122  NaN      NaN   \n",
       "\n",
       "                 PROPTYPE  TRIGROUP   ...     PY10TAX  PY10PEN PY10INT  \\\n",
       "0  GARAGE/UNIMPROVED LAND       NaN   ...         NaN      NaN     NaN   \n",
       "1  GARAGE/UNIMPROVED LAND       NaN   ...         NaN      NaN     NaN   \n",
       "2              COMMERCIAL       NaN   ...         NaN      NaN     NaN   \n",
       "3  GARAGE/UNIMPROVED LAND       NaN   ...         NaN      NaN     NaN   \n",
       "4  GARAGE/UNIMPROVED LAND       NaN   ...         NaN      NaN     NaN   \n",
       "\n",
       "   PY10FEE PY10TOTDUE PY10COLL PY10BAL PY10CR LASTPAYDT OWNNAME2  \n",
       "0      NaN        NaN      NaN     NaN    NaN       NaN      NaN  \n",
       "1      NaN        NaN      NaN     NaN    NaN       NaN      NaN  \n",
       "2      NaN        NaN      NaN     NaN    NaN       NaN      NaN  \n",
       "3      NaN        NaN      NaN     NaN    NaN       NaN      NaN  \n",
       "4      NaN        NaN      NaN     NaN    NaN       NaN      NaN  \n",
       "\n",
       "[5 rows x 208 columns]"
      ]
     },
     "execution_count": 38,
     "metadata": {},
     "output_type": "execute_result"
    }
   ],
   "source": [
    "data_check.head()"
   ]
  },
  {
   "cell_type": "code",
   "execution_count": null,
   "metadata": {
    "collapsed": true
   },
   "outputs": [],
   "source": []
  }
 ],
 "metadata": {
  "anaconda-cloud": {},
  "kernelspec": {
   "display_name": "Python [default]",
   "language": "python",
   "name": "python3"
  },
  "language_info": {
   "codemirror_mode": {
    "name": "ipython",
    "version": 3
   },
   "file_extension": ".py",
   "mimetype": "text/x-python",
   "name": "python",
   "nbconvert_exporter": "python",
   "pygments_lexer": "ipython3",
   "version": "3.5.4"
  }
 },
 "nbformat": 4,
 "nbformat_minor": 2
}
